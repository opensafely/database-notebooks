{
 "cells": [
  {
   "cell_type": "markdown",
   "metadata": {
    "lines_to_next_cell": 2
   },
   "source": [
    "# Historical coverage for data sources in OpenSAFELY\n",
    "\n",
    "This [OpenSAFELY](https://www.opensafely.org/) notebook provides information about historical coverage of externally linked data sources in the [OpenSAFELY-TPP database](https://docs.opensafely.org/dataset-systmone/). It is part of the technical documentation for users of the OpenSAFELY platform to guide analyses and **it should not be used for inference about any aspect of the pandemic, public health, or health service activity**. For the avoidance of doubt: any clinical or epidemiological interpretation of this raw information is likely to be a misinterpretation. \n",
    "\n",
    "If you would like to apply to use the OpenSAFELY platform please read our [documentation](https://docs.opensafely.org/), the [principles of the platform](https://www.opensafely.org/about/), and information about our [pilot programme for onboarding external users](https://www.opensafely.org/onboarding-new-users/).\n",
    "\n",
    "If you want to see the Python code used to create this notebook, you can [view it on GitHub](https://github.com/opensafely/database-notebooks/blob/master/notebooks/database-builds.ipynb)."
   ]
  },
  {
   "cell_type": "markdown",
   "metadata": {},
   "source": [
    "## Data sources\n",
    "Data sources are listed below, with the table name in the database given in brackets:\n",
    "\n",
    "* All positive or negative SARS-CoV2 tests, from SGSS (`SGSS_AllTests_Positive` and `SGSS_AllTests_Negative`)\n",
    "* First-ever positive or negative SARS-CoV2 test, from SGSS (`SGSS_Positive` and `SGSS_Negative`)\n",
    "* A&E attendances, from SUS Emergency Care data (`EC`)\n",
    "* In-patient hospital admissions, from SUS Admitted Patient Care Spells data (`APCS`)\n",
    "* Out-patient hospital appointments, from SUS (`OPA`)\n",
    "* Covid-related ICU admissions, from ICNARC (`ICNARC`)\n",
    "* Covid-related in-hospital deaths, from CPNS (`CPNS`)\n",
    "* COVID-19 Infection Survey, from ONS (`ONS_CIS`)\n",
    "* All-cause registered deaths, from ONS (`ONS_Deaths`)\n",
    "* High cost drugs (`HighCostDrugs`)\n",
    "* Unique Property Reference Number, used for deriving household variables (`UPRN`)\n",
    "* Master Patient Index (`MPI`)\n",
    "* Health and Social Care Worker identification, collected at the point of vaccination (`HealthCareWorker`)\n"
   ]
  },
  {
   "cell_type": "code",
   "execution_count": 1,
   "metadata": {
    "lines_to_next_cell": 2
   },
   "outputs": [],
   "source": [
    "## Import libraries\n",
    "\n",
    "%load_ext autoreload\n",
    "%autoreload 2\n",
    "\n",
    "import pyodbc\n",
    "import os\n",
    "import pandas as pd\n",
    "import numpy as np\n",
    "import matplotlib.pyplot as plt\n",
    "import matplotlib.ticker as ticker\n",
    "import matplotlib.patches as patches\n",
    "import matplotlib.dates as mdates\n",
    "from contextlib import contextmanager\n",
    "from datetime import date, datetime\n",
    "from IPython.display import display, Markdown\n",
    "\n",
    "import sys\n",
    "sys.path.append('../lib/')\n",
    "from functions import *"
   ]
  },
  {
   "cell_type": "code",
   "execution_count": 2,
   "metadata": {},
   "outputs": [],
   "source": [
    "# get server credentials from environment variable\n",
    "\n",
    "dbconn = os.environ.get('FULL_DATABASE_URL', None).strip('\"')"
   ]
  },
  {
   "cell_type": "code",
   "execution_count": 3,
   "metadata": {},
   "outputs": [],
   "source": [
    "## Import libraries\n",
    "\n",
    "with closing_connection(dbconn) as cnxn:\n",
    "    DBbuild = pd.read_sql(\"\"\"select * from LatestBuildTime\"\"\", cnxn)\n",
    "    latestbuilds = pd.read_sql(\n",
    "    \"\"\"\n",
    "        select BuildDesc as dataset, max(BuildDate) as latest_import from BuildInfo\n",
    "        group by BuildDesc\n",
    "    \"\"\", cnxn)\n",
    "    allbuilds = pd.read_sql(\"\"\"select * from BuildInfo\"\"\", cnxn)\n",
    "\n",
    "# select start and end dates\n",
    "start_date = pd.to_datetime(\"2016-01-01\", format='%Y-%m-%d')\n",
    "#start_date = pd.to_datetime(\"2020-02-01\", format='%Y-%m-%d')\n",
    "end_date = pd.to_datetime(latestbuilds['latest_import'].max(), format='%Y-%m-%d')\n",
    "run_date = date.today()"
   ]
  },
  {
   "cell_type": "markdown",
   "metadata": {},
   "source": [
    "## Notebook run date"
   ]
  },
  {
   "cell_type": "code",
   "execution_count": 4,
   "metadata": {},
   "outputs": [
    {
     "data": {
      "text/markdown": [
       "This notebook was run on 14 September 2021.  The information below reflects the state of the OpenSAFELY-TPP database as at this date."
      ],
      "text/plain": [
       "<IPython.core.display.Markdown object>"
      ]
     },
     "metadata": {},
     "output_type": "display_data"
    }
   ],
   "source": [
    "display(Markdown(f\"\"\"This notebook was run on {run_date.strftime('%-d %B %Y')}.  The information below reflects the state of the OpenSAFELY-TPP database as at this date.\"\"\"))"
   ]
  },
  {
   "cell_type": "markdown",
   "metadata": {},
   "source": [
    "## Event activity in external datasets\n",
    "\n",
    "In the figures below, event activity (counts of patient events such as hospital admissions and deaths) is reported for external data sources from no earlier than 1 January 2016 up to the notebook run date.\n",
    "\n",
    "Note that the OpenSAFELY-TPP database only includes people who were ever registered at a GP practice using TPP's SystmOne clinical information system (roughly 40% of GP practices) on or after 1 January 2009, including those who have since deregistered or died. The data therefore captures activity for these patients only.\n",
    "\n",
    "Counts of five or less are redacted. "
   ]
  },
  {
   "cell_type": "code",
   "execution_count": null,
   "metadata": {},
   "outputs": [],
   "source": [
    "def datequery(table, var, from_date):\n",
    "    query = (\n",
    "      f\"\"\"\n",
    "        SELECT {var} AS date\n",
    "        FROM {table}\n",
    "        WHERE {var} >= CONVERT(date, '{from_date}')\n",
    "      \"\"\"\n",
    "    )\n",
    "    return query\n",
    "\n",
    "start_date_text = start_date.strftime('%Y-%m-%d')\n",
    "#CodedEvent_query = datequery(\"CodedEvent\", \"ConsultationDate\", start_date_text)\n",
    "#Appointment_query = datequery(\"Appointment\", \"SeenDate\", start_date_text)\n",
    "APCS_query = datequery(\"APCS\", \"Admission_Date\", start_date_text)\n",
    "CPNS_query = datequery(\"CPNS\", \"DateOfDeath\", start_date_text)\n",
    "EC_query = datequery(\"EC\", \"Arrival_Date\", start_date_text)\n",
    "OPA_query = datequery(\"OPA\", \"Appointment_Date\", start_date_text)\n",
    "ICNARC_query = datequery(\"ICNARC\", \"CONVERT(date, IcuAdmissionDateTime)\", start_date_text)\n",
    "ONS_query = datequery(\"ONS_Deaths\", \"dod\", start_date_text)\n",
    "SGSS_query = datequery(\"\"\"( \n",
    "         SELECT * FROM SGSS_Positive \n",
    "         UNION\n",
    "         SELECT * FROM SGSS_Negative\n",
    "         )  \"\"\", \n",
    "        \"Earliest_Specimen_Date\", start_date_text)\n",
    "SGSSpos_query = datequery(\"SGSS_Positive\", \"Earliest_Specimen_Date\", start_date_text)\n",
    "SGSS_AllTests_query = datequery(\"\"\"( \n",
    "         SELECT * FROM SGSS_AllTests_Positive \n",
    "         UNION\n",
    "         SELECT * FROM SGSS_AllTests_Negative\n",
    "         ) \"\"\", \n",
    "        \"Specimen_Date\", start_date_text)\n",
    "SGSSpos_AllTests_query = datequery(\"SGSS_AllTests_Positive\", \"Specimen_Date\", start_date_text)\n",
    "\n",
    "with closing_connection(dbconn) as cnxn:\n",
    "    #CodedEvent_df = pd.read_sql(CodedEvent_query, cnxn, parse_dates=['coded_event_date'])\n",
    "    #Appointment_df = pd.read_sql(Appointment_query, cnxn, parse_dates=['appointment_date'])\n",
    "    APCS_df = pd.read_sql(APCS_query, cnxn, parse_dates=['date'])\n",
    "    CPNS_df = pd.read_sql(CPNS_query, cnxn, parse_dates=['date'])\n",
    "    EC_df = pd.read_sql(EC_query, cnxn, parse_dates=['date'])\n",
    "    OPA_df = pd.read_sql(OPA_query, cnxn, parse_dates=['date'])\n",
    "    ICNARC_df = pd.read_sql(ICNARC_query, cnxn, parse_dates=['date'])\n",
    "    ONS_df = pd.read_sql(ONS_query, cnxn, parse_dates=['date'])\n",
    "    #SGSS_df = pd.read_sql(SGSS_query, cnxn, parse_dates=['date'])\n",
    "    #SGSSpos_df = pd.read_sql(SGSSpos_query, cnxn, parse_dates=['date'])\n",
    "    #SGSS_all_df = pd.read_sql(SGSS_AllTests_query, cnxn, parse_dates=['date'])\n",
    "    #SGSSpos_all_df = pd.read_sql(SGSSpos_AllTests_query, cnxn, parse_dates=['date'])\n",
    "    \n",
    "# Note that CodedEvent and Appointment extracts take a long time to run.\n",
    "# The sql for the combined SGSS tables has stopped working, so are not currently run"
   ]
  },
  {
   "cell_type": "code",
   "execution_count": null,
   "metadata": {},
   "outputs": [],
   "source": [
    "def plotcounts_history(events=None, title=\"\"):\n",
    "    # This function plots event counts over time both overall and for the last X days up to the most recent extracted event.  \n",
    "    startdate = events.min()\n",
    "    enddate = events.max()\n",
    "    \n",
    "    date_range = pd.DataFrame(\n",
    "        index = pd.date_range(start=startdate, end=enddate, freq=\"D\")\n",
    "    )\n",
    "    \n",
    "    startdatestring = startdate.strftime('%Y-%m-%d')\n",
    "    enddatestring = enddate.strftime('%Y-%m-%d')\n",
    "    \n",
    "\n",
    "    counts_day = eventcountseries(events, date_range, rule=\"D\")\n",
    "    redact_day = (counts_day <6) & (counts_day>0)\n",
    "    counts_day = counts_day.where(~redact_day, 3) #redact small numbers\n",
    "    \n",
    "    counts_week = eventcountseries(events, date_range, rule=\"W\")\n",
    "    redact_week = (counts_week <6) & (counts_week>0)\n",
    "    counts_week = counts_week.where(~redact_week, 3) #redact small numbers\n",
    "       \n",
    "    fig, axs = plt.subplots(1, 1, figsize=(15,5))\n",
    "    \n",
    "    axs.plot(counts_day.index, counts_day, color='darkblue', zorder=2)\n",
    "    axs.plot(counts_week.index - pd.DateOffset(3), counts_week/7, color='lightblue', zorder=3)\n",
    "    axs.set_ylabel('event counts')\n",
    "    axs.xaxis.set_tick_params(labelrotation=70)\n",
    "    axs.set_ylim(bottom=0)\n",
    "    axs.grid(True)\n",
    "    axs.spines[\"left\"].set_visible(False)\n",
    "    axs.spines[\"right\"].set_visible(False)\n",
    "    axs.set_title(f\"\"\"\\n\\n From {startdatestring} to {enddatestring}\"\"\")\n",
    "    xlimlower, xlimupper = axs.get_xlim()\n",
    "    ylimlower, ylimupper = axs.get_ylim()\n",
    "    axs.add_patch(patches.Rectangle((xlimlower,0.5) ,xlimupper-xlimlower, 5, linewidth=1, edgecolor='none', facecolor='seashell', zorder=4))\n",
    "       \n",
    "    plt.subplots_adjust(top=0.8, wspace = 0.2, hspace = 0.9)\n",
    "    plt.tight_layout()\n",
    "    fig.suptitle(\"\\n\"+title, y=1, fontsize='x-large')\n",
    "    plt.figtext(\n",
    "        0, -0.07, \n",
    "        \"\"\"\n",
    "        Counts are based on raw event data and should not be used for clinical or epidemiological inference.\n",
    "        Counts of five or less are set to 3 and masked for disclosure control.\n",
    "        \"\"\",\n",
    "        ha='left'\n",
    "    )\n",
    "    plt.show()"
   ]
  },
  {
   "cell_type": "code",
   "execution_count": null,
   "metadata": {},
   "outputs": [],
   "source": [
    "#plotcounts_history(CodedEvent_df['coded_event_date'], title=\"Any coded event in Primary Care, from SystmOne\")\n",
    "#plotcounts_history(SGSS_df['date'], title=\"First-only SARS-CoV2 test (SGSS)\")\n",
    "#plotcounts_history(SGSSpos_df['date'], title=\"First-only Positive SARS-CoV2 test (SGSS)\")\n",
    "#plotcounts_history(SGSS_all_df['date'], title=\"Any SARS-CoV2 test (SGSS)\")\n",
    "#plotcounts_history(SGSSpos_all_df['date'], title=\"Positive SARS-CoV2 test (SGSS)\")\n",
    "plotcounts_history(EC_df['date'], title=\"A&E attendance (SUS EC)\")\n",
    "plotcounts_history(OPA_df['date'], title=\"Out-patient hospital appointment (SUS OPA)\")\n",
    "plotcounts_history(APCS_df['date'], title=\"In-patient hospital admission (SUS APCS)\")\n",
    "plotcounts_history(ICNARC_df['date'], title=\"Covid-related ICU admission (ICNARC)\")\n",
    "plotcounts_history(CPNS_df['date'], title=\"Covid-related in-hospital death (CPNS)\")\n",
    "plotcounts_history(ONS_df['date'], title=\"Registered death (ONS)\")"
   ]
  },
  {
   "cell_type": "code",
   "execution_count": null,
   "metadata": {},
   "outputs": [],
   "source": []
  }
 ],
 "metadata": {
  "jupytext": {
   "cell_metadata_filter": "all",
   "notebook_metadata_filter": "all,-language_info",
   "text_representation": {
    "extension": ".py",
    "format_name": "light",
    "format_version": "1.5",
    "jupytext_version": "1.3.3"
   }
  },
  "kernelspec": {
   "display_name": "Python 3",
   "language": "python",
   "name": "python3"
  },
  "language_info": {
   "codemirror_mode": {
    "name": "ipython",
    "version": 3
   },
   "file_extension": ".py",
   "mimetype": "text/x-python",
   "name": "python",
   "nbconvert_exporter": "python",
   "pygments_lexer": "ipython3",
   "version": "3.8.1"
  }
 },
 "nbformat": 4,
 "nbformat_minor": 4
}
