{
 "cells": [
  {
   "cell_type": "markdown",
   "metadata": {
    "lines_to_next_cell": 2
   },
   "source": [
    "# Characteristics of patients included in the OpenSAFELY-TPP database\n",
    "\n",
    "This notebook provides information about the characteristics of patients available in the OpenSAFELY-TPP database. \n",
    "\n",
    "The database includes patients registered, or recently registered, at GP practices using TPP's SystmOne Clinical Information System.\n"
   ]
  },
  {
   "cell_type": "code",
   "execution_count": 1,
   "metadata": {
    "lines_to_next_cell": 2
   },
   "outputs": [],
   "source": [
    "## Import libraries\n",
    "\n",
    "%load_ext autoreload\n",
    "%autoreload 2\n",
    "\n",
    "import os\n",
    "import pandas as pd\n",
    "import numpy as np\n",
    "from datetime import date, datetime\n",
    "from IPython.display import display, Markdown\n"
   ]
  },
  {
   "cell_type": "code",
   "execution_count": 2,
   "metadata": {},
   "outputs": [],
   "source": [
    "# get data extraction date\n",
    "extract_date = pd.to_datetime(os.path.getmtime(\"../output/input.csv\"), unit='s')\n",
    "# get notebook run date\n",
    "run_date = date.today()"
   ]
  },
  {
   "cell_type": "code",
   "execution_count": 3,
   "metadata": {},
   "outputs": [
    {
     "data": {
      "text/markdown": [
       "This notebook was run on 2022-06-08. The information below is based on data extracted from the OpenSAFELY-TPP database on 2021-01-21."
      ],
      "text/plain": [
       "<IPython.core.display.Markdown object>"
      ]
     },
     "metadata": {},
     "output_type": "display_data"
    }
   ],
   "source": [
    "display(Markdown(f\"\"\"This notebook was run on {run_date.strftime('%Y-%m-%d')}. The information below is based on data extracted from the OpenSAFELY-TPP database on {extract_date.strftime('%Y-%m-%d')}.\"\"\"))"
   ]
  },
  {
   "cell_type": "code",
   "execution_count": 4,
   "metadata": {},
   "outputs": [],
   "source": [
    "# import data\n",
    "\n",
    "categories = [\n",
    "    \"sex\",\n",
    "    \"region\",\n",
    "    \"stp\",\n",
    "    \"care_home_type\", \n",
    "    #\"ethnicity\",\n",
    "    \"imd\"\n",
    "]\n",
    "\n",
    "dfdtype={field: \"category\" for field in categories}\n",
    "\n",
    "df = pd.read_csv(\n",
    "    '../output/input.csv',\n",
    "    dtype = dfdtype\n",
    ")\n",
    "\n",
    "for column in categories: \n",
    "    df[column] = df[column].cat.add_categories(\"(Missing)\").fillna(\"(Missing)\")\n",
    "    \n",
    "df_adult = df[df['age']>=18]"
   ]
  },
  {
   "cell_type": "markdown",
   "metadata": {},
   "source": [
    "## registered patients\n"
   ]
  },
  {
   "cell_type": "code",
   "execution_count": 5,
   "metadata": {},
   "outputs": [
    {
     "data": {
      "text/html": [
       "<style  type=\"text/css\" >\n",
       "    #T_41286d1c_e737_11ec_8506_0242ac110004 th {\n",
       "          text-align: left;\n",
       "    }    #T_41286d1c_e737_11ec_8506_0242ac110004row0_col0 {\n",
       "            text-align:  left;\n",
       "            index:  False;\n",
       "        }    #T_41286d1c_e737_11ec_8506_0242ac110004row1_col0 {\n",
       "            text-align:  left;\n",
       "            index:  False;\n",
       "        }    #T_41286d1c_e737_11ec_8506_0242ac110004row2_col0 {\n",
       "            text-align:  left;\n",
       "            index:  False;\n",
       "        }    #T_41286d1c_e737_11ec_8506_0242ac110004row3_col0 {\n",
       "            text-align:  left;\n",
       "            index:  False;\n",
       "        }    #T_41286d1c_e737_11ec_8506_0242ac110004row4_col0 {\n",
       "            text-align:  left;\n",
       "            index:  False;\n",
       "        }</style><table id=\"T_41286d1c_e737_11ec_8506_0242ac110004\" ><thead>    <tr>        <th class=\"col_heading level0 col0\" > </th>        <th class=\"col_heading level0 col1\" >All ages</th>        <th class=\"col_heading level0 col2\" >18+ only</th>    </tr></thead><tbody>\n",
       "                <tr>\n",
       "                                <td id=\"T_41286d1c_e737_11ec_8506_0242ac110004row0_col0\" class=\"data row0 col0\" >All available patients &mdash; see <a href='https://docs.opensafely.org/en/latest/dataset-intro/#opensafely-tpp-database-builds' target='_blank'>inclusion criteria</a></td>\n",
       "                        <td id=\"T_41286d1c_e737_11ec_8506_0242ac110004row0_col1\" class=\"data row0 col1\" >30970716</td>\n",
       "                        <td id=\"T_41286d1c_e737_11ec_8506_0242ac110004row0_col2\" class=\"data row0 col2\" >25520002</td>\n",
       "            </tr>\n",
       "            <tr>\n",
       "                                <td id=\"T_41286d1c_e737_11ec_8506_0242ac110004row1_col0\" class=\"data row1 col0\" >Patients actively registered at a TPP practice on 2021-01-21</td>\n",
       "                        <td id=\"T_41286d1c_e737_11ec_8506_0242ac110004row1_col1\" class=\"data row1 col1\" >23945074</td>\n",
       "                        <td id=\"T_41286d1c_e737_11ec_8506_0242ac110004row1_col2\" class=\"data row1 col2\" >19139155</td>\n",
       "            </tr>\n",
       "            <tr>\n",
       "                                <td id=\"T_41286d1c_e737_11ec_8506_0242ac110004row2_col0\" class=\"data row2 col0\" >Patients actively registered at the same TPP practice for at least one year up to 2021-01-21</td>\n",
       "                        <td id=\"T_41286d1c_e737_11ec_8506_0242ac110004row2_col1\" class=\"data row2 col1\" >22390242</td>\n",
       "                        <td id=\"T_41286d1c_e737_11ec_8506_0242ac110004row2_col2\" class=\"data row2 col2\" >18028446</td>\n",
       "            </tr>\n",
       "            <tr>\n",
       "                                <td id=\"T_41286d1c_e737_11ec_8506_0242ac110004row3_col0\" class=\"data row3 col0\" >Unique practice IDs</td>\n",
       "                        <td id=\"T_41286d1c_e737_11ec_8506_0242ac110004row3_col1\" class=\"data row3 col1\" >2545</td>\n",
       "                        <td id=\"T_41286d1c_e737_11ec_8506_0242ac110004row3_col2\" class=\"data row3 col2\" >2544</td>\n",
       "            </tr>\n",
       "            <tr>\n",
       "                                <td id=\"T_41286d1c_e737_11ec_8506_0242ac110004row4_col0\" class=\"data row4 col0\" >Unique STPs</td>\n",
       "                        <td id=\"T_41286d1c_e737_11ec_8506_0242ac110004row4_col1\" class=\"data row4 col1\" >32</td>\n",
       "                        <td id=\"T_41286d1c_e737_11ec_8506_0242ac110004row4_col2\" class=\"data row4 col2\" >32</td>\n",
       "            </tr>\n",
       "    </tbody></table>"
      ],
      "text/plain": [
       "<pandas.io.formats.style.Styler at 0x7f6b93cc9070>"
      ]
     },
     "execution_count": 5,
     "metadata": {},
     "output_type": "execute_result"
    }
   ],
   "source": [
    "tabledata = {\n",
    "    ' ':[\n",
    "        \n",
    "        \"All available patients &mdash; see <a href='\"+\"https://docs.opensafely.org/en/latest/dataset-intro/#opensafely-tpp-database-builds\"+\"' target='_blank'>\"+\"inclusion criteria\"+\"</a>\",\n",
    "        'Patients actively registered at a TPP practice on '+extract_date.strftime('%Y-%m-%d'),\n",
    "        'Patients actively registered at the same TPP practice for at least one year up to '+extract_date.strftime('%Y-%m-%d'),   \n",
    "        'Unique practice IDs',\n",
    "        'Unique STPs',\n",
    "    ],\n",
    "    'All ages':[\n",
    "        len(df.index),\n",
    "        df.registered.sum(axis=0),\n",
    "        df.registered_one_year.sum(axis=0),\n",
    "        df.practice_id.nunique(),\n",
    "        df.stp.nunique(),        \n",
    "    ],\n",
    "    '18+ only':[\n",
    "        len(df_adult.index),\n",
    "        df_adult.registered.sum(axis=0),\n",
    "        df_adult.registered_one_year.sum(axis=0),\n",
    "        df_adult.practice_id.nunique(),\n",
    "        df_adult.stp.nunique(),        \n",
    "    ],\n",
    "}\n",
    "\n",
    "tabledata = pd.DataFrame(tabledata)\n",
    "\n",
    "tabledata\n",
    "\n",
    "# use styling - https://pandas.pydata.org/pandas-docs/stable/user_guide/style.html\n",
    "styles = [dict(selector=\"th\", props=[(\"text-align\", \"left\")])]\n",
    "\n",
    "tabledata.style.set_properties(subset=[\" \"], **{'text-align':'left', 'index':False}).set_table_styles(styles).hide_index()"
   ]
  }
 ],
 "metadata": {
  "jupytext": {
   "cell_metadata_filter": "all",
   "notebook_metadata_filter": "all,-language_info",
   "text_representation": {
    "extension": ".py",
    "format_name": "light",
    "format_version": "1.5",
    "jupytext_version": "1.3.3"
   }
  },
  "kernelspec": {
   "display_name": "Python 3",
   "language": "python",
   "name": "python3"
  },
  "language_info": {
   "codemirror_mode": {
    "name": "ipython",
    "version": 3
   },
   "file_extension": ".py",
   "mimetype": "text/x-python",
   "name": "python",
   "nbconvert_exporter": "python",
   "pygments_lexer": "ipython3",
   "version": "3.8.1"
  }
 },
 "nbformat": 4,
 "nbformat_minor": 4
}
